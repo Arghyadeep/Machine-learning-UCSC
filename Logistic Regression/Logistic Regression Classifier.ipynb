{
 "cells": [
  {
   "cell_type": "raw",
   "metadata": {},
   "source": [
    "Logistic Regression(without any ML library) for SPAM/HAM classification : Contributors: Arghyadeep Giri [argiri@ucsc.edu], Alex Aranburu [aaranbur@ucsc.edu]"
   ]
  },
  {
   "cell_type": "code",
   "execution_count": 2,
   "metadata": {
    "collapsed": true
   },
   "outputs": [],
   "source": [
    "#import libraries\n",
    "from sklearn.feature_extraction.text import TfidfTransformer\n",
    "import numpy as np\n",
    "import scipy as scipy\n",
    "import csv\n",
    "import nltk\n",
    "from sklearn.feature_extraction.text import TfidfVectorizer\n",
    "import re\n",
    "import math\n",
    "import matplotlib.pyplot as plt\n",
    "import matplotlib.patches as mpatches"
   ]
  },
  {
   "cell_type": "code",
   "execution_count": 3,
   "metadata": {},
   "outputs": [
    {
     "name": "stdout",
     "output_type": "stream",
     "text": [
      "length of concatanated train and test data: 5572\n"
     ]
    }
   ],
   "source": [
    "#Sigmoid function (input might be scalar or vector)\n",
    "def sigmoid(x):\n",
    "  return 1 / (1 + np.exp(-x))\n",
    "lemma = nltk.wordnet.WordNetLemmatizer()\n",
    "tfidf = TfidfVectorizer()\n",
    "lambdas = np.logspace(-4,np.log10(0.5),num=50,endpoint = True,base =10)\n",
    "\n",
    "#reading CSV to get train and test data\n",
    "with open(\"train.csv\",\"r\") as csvfile:\n",
    "    traindata = csv.reader(csvfile, delimiter=',')\n",
    "    traindata = list(traindata)\n",
    "    traindata = traindata[1:]\n",
    "\t\n",
    "with open(\"test.csv\",\"r\") as csvfile:\n",
    "    testdata = csv.reader(csvfile, delimiter=',')\n",
    "    testdata = list(testdata)\n",
    "    testdata = testdata[1:]\n",
    "    \n",
    "#merge train and test data\n",
    "data = np.concatenate((traindata, testdata),axis=0)\n",
    "print(\"length of concatanated train and test data:\", len(data))"
   ]
  },
  {
   "cell_type": "code",
   "execution_count": 4,
   "metadata": {},
   "outputs": [
    {
     "name": "stdout",
     "output_type": "stream",
     "text": [
      "Number of training data: 3000\n",
      "Number of test data: 2571\n"
     ]
    }
   ],
   "source": [
    "texts = []\n",
    "labels = []\n",
    "Ydata = []\n",
    "for i in range(len(data)):\n",
    "    labels.append(data[i][0])\n",
    "    texts.append(data[i][1])\n",
    "    lemma.lemmatize(texts[i]) #lemmatization\n",
    "\n",
    "#label Y data\n",
    "for i in range(len(data)):\n",
    "    if labels[i] == \"spam\":\n",
    "        Ydata.append(1)\n",
    "    else:\n",
    "        labels[i] == \"ham\"\n",
    "        Ydata.append(0)\n",
    "\n",
    "#separate train and test Y data\n",
    "Ytrain = Ydata[0:len(traindata)]\n",
    "Ytrain = np.transpose(np.matrix((Ytrain)))\n",
    "#Ytrain = np.concatenate((np.matrix([0]), Ytrain), axis=0) #Include bias term in Ytrain\n",
    "Ytest =\tYdata[len(traindata)+1:]\n",
    "Ytest = np.transpose(np.matrix((Ytest)))\n",
    "print(\"Number of training data:\", len(Ytrain))\n",
    "print(\"Number of test data:\", len(Ytest))"
   ]
  },
  {
   "cell_type": "code",
   "execution_count": 5,
   "metadata": {},
   "outputs": [
    {
     "name": "stdout",
     "output_type": "stream",
     "text": [
      "shape of tfidf train matrix: (3000, 8761)\n",
      "shape of tfidf test matrix: (2571, 8761)\n"
     ]
    }
   ],
   "source": [
    "#get TF_IDF of data\n",
    "tfs_sparse = tfidf.fit_transform(texts)\n",
    "#print(tfs_sparse)\n",
    "\n",
    "#separate train and test X data\n",
    "tfs_train = tfs_sparse[0:len(traindata),:]\n",
    "tfs_test = tfs_sparse[len(traindata)+1:,:]\n",
    "\n",
    "tfs = tfs_train\n",
    "#create array with random index numbers\n",
    "randind = np.arange(tfs.toarray().shape[0])\n",
    "np.random.shuffle((randind))\n",
    "\n",
    "print(\"shape of tfidf train matrix:\", np.shape(tfs_train))\n",
    "print(\"shape of tfidf test matrix:\",np.shape(tfs_test))"
   ]
  },
  {
   "cell_type": "code",
   "execution_count": 7,
   "metadata": {},
   "outputs": [
    {
     "name": "stdout",
     "output_type": "stream",
     "text": [
      "length of validation set: 300\n"
     ]
    }
   ],
   "source": [
    "#shuffle data\n",
    "xshuffled = tfs[randind,:]\n",
    "yshuffled = Ytrain[randind,:]\n",
    "\n",
    "#splitting data\n",
    "split = int(xshuffled.shape[0]/10)\n",
    "lambdalossesvalidation = np.zeros((10,len(lambdas)))\n",
    "lambdalossestrain = np.zeros((10,len(lambdas)))\n",
    "optindex = np.zeros((10,1))\n",
    "lossvalidationavg = np.zeros((10,1))\n",
    "print(\"length of validation set:\", split)"
   ]
  },
  {
   "cell_type": "code",
   "execution_count": 45,
   "metadata": {},
   "outputs": [
    {
     "name": "stdout",
     "output_type": "stream",
     "text": [
      "FOLD 1 (Optimal lossvalidation, lambda):  0.0667755220916 0.03098439811\n",
      "Avg. lossvalidation:  [ 0.07707842]\n",
      "FOLD 2 (Optimal lossvalidation, lambda):  0.108478002787 0.0621011723927\n",
      "Avg. lossvalidation:  [ 0.12866708]\n",
      "FOLD 3 (Optimal lossvalidation, lambda):  0.112892074153 0.10460859051\n",
      "Avg. lossvalidation:  [ 0.15597036]\n",
      "FOLD 4 (Optimal lossvalidation, lambda):  0.103251972019 0.0438653331062\n",
      "Avg. lossvalidation:  [ 0.13996113]\n",
      "FOLD 5 (Optimal lossvalidation, lambda):  0.0668378101526 0.0260407735158\n",
      "Avg. lossvalidation:  [ 0.07667036]\n",
      "FOLD 6 (Optimal lossvalidation, lambda):  0.0707621476806 0.03098439811\n",
      "Avg. lossvalidation:  [ 0.0841245]\n",
      "FOLD 7 (Optimal lossvalidation, lambda):  0.110921085816 0.0521928023131\n",
      "Avg. lossvalidation:  [ 0.13560553]\n",
      "FOLD 8 (Optimal lossvalidation, lambda):  0.16348650118 0.10460859051\n",
      "Avg. lossvalidation:  [ 0.24943489]\n",
      "FOLD 9 (Optimal lossvalidation, lambda):  0.0902556209582 0.0368665287787\n",
      "Avg. lossvalidation:  [ 0.10629395]\n",
      "FOLD 10 (Optimal lossvalidation, lambda):  0.108074093825 0.0621011723927\n",
      "Avg. lossvalidation:  [ 0.13913091]\n"
     ]
    }
   ],
   "source": [
    "#Cross Validation\n",
    "for i in range(10):\n",
    "\n",
    "\t#select foldwise train and validation X, Y data\n",
    "\tcvtestx = xshuffled[split*i:split+(split*i),:]\n",
    "\tcvtestxtrans = np.transpose(cvtestx)\n",
    "\tcvtestx = scipy.sparse.csr_matrix(cvtestx) #convert to sparse matrix\n",
    "\tcvtestxtrans = scipy.sparse.csr_matrix(cvtestxtrans)\n",
    "\tcvtrainx = np.delete(xshuffled.toarray(),[x for x in range(split*i,split+(split*i))],0)\n",
    "\tcvtrainxtrans = np.transpose(cvtrainx)\n",
    "\tcvtrainx = scipy.sparse.csr_matrix(cvtrainx) #convert to sparse matrix\n",
    "\tcvtrainxtrans = scipy.sparse.csr_matrix(cvtrainxtrans)\n",
    "\tcvtesty = yshuffled[split*i:split+(split*i)]\n",
    "\tcvtesty = scipy.sparse.csr_matrix(cvtesty) #convert to sparse matrix\n",
    "\tcvtrainy = np.delete(yshuffled,[x for x in range(split*i,split+(split*i))],0)\n",
    "\tcvtrainytrans = np.transpose(cvtrainy)\n",
    "\tcvtrainy = scipy.sparse.csr_matrix(cvtrainy) #convert to sparse matrix\n",
    "\tcvtrainytrans = scipy.sparse.csr_matrix(cvtrainytrans) #convert to sparse matrix\n",
    "\tminlossvalidation = 1000000\n",
    "     \n",
    "\tfor j in range(len(lambdas)):\n",
    "\t\tcvweights = np.zeros((tfs.shape[1],1)) #initialize to zero the weight vector that gets updated with iterations\n",
    "\t\tgradient = np.ones((1,tfs.shape[1]))\n",
    "\t\titers, diff = 1, 1\n",
    "\t\tgradientprev = 1000000;\n",
    "\t\twhile ((diff > 0.0025) and iters < 5000): #precision and maximum iterations (to avoid infinite loop)\n",
    "\t\t\tgradient = np.zeros((1,tfs.shape[1]))\n",
    "\t\t\titers += 1\n",
    "\t\t\tgradient = np.transpose((sigmoid((cvtrainx*cvweights))-cvtrainy)) * cvtrainx #compute gradient\n",
    "\t\t\tdiff = (np.linalg.norm(gradient,ord = 1)-gradientprev)/(-gradientprev) #compute difference\n",
    "\t\t\tgradientprev = np.linalg.norm(gradient,ord = 1) #save gradient\n",
    "\t\t\tcvweights = cvweights - (2.25*(iters**(-0.9)))*(np.transpose(gradient) + lambdas[j]*cvweights) #update weights\n",
    "\t\t\n",
    "\t\t#compute validation and train losses (normalized)\n",
    "\t\tlossvalidation = ((np.transpose(cvtesty)*(-cvtestx*cvweights))+np.sum((np.log(1+np.exp(cvtestx*cvweights)))))/cvtesty.shape[0]\n",
    "\t\tlosstrain = ((np.transpose(cvtrainy)*(-cvtrainx*cvweights))+np.sum((np.log(1+np.exp(cvtrainx*cvweights)))))/cvtrainy.shape[0]\n",
    "\t\t\n",
    "\t\t#save validation and train losses\n",
    "\t\tlambdalossesvalidation[i,j] = lossvalidation\n",
    "\t\tlambdalossestrain[i,j] = losstrain\n",
    "\t\tif minlossvalidation > lossvalidation:\n",
    "\t\t\tminlossvalidation = lossvalidation\n",
    "\t\t\toptindex[i] = j #save index with lowest loss among lambdas\n",
    "\t\tlossvalidationavg[i] = lossvalidationavg[i] + lossvalidation #sum up lambda losses \n",
    "\tprint(\"FOLD\", i+1,\"(Optimal lossvalidation, lambda): \", lambdalossesvalidation[i,int(optindex[i])], lambdas[int(optindex[i])])\n",
    "\tlossvalidationavg[i] = lossvalidationavg[i]/len(lambdas) #compute validation loss average\n",
    "\tprint(\"Avg. lossvalidation: \", lossvalidationavg[i])"
   ]
  },
  {
   "cell_type": "code",
   "execution_count": 46,
   "metadata": {},
   "outputs": [
    {
     "name": "stdout",
     "output_type": "stream",
     "text": [
      "Best lambda value after cross validation: 0.0521928023131\n"
     ]
    }
   ],
   "source": [
    "bestfold = np.argmin(lossvalidationavg) #select best fold index\n",
    "bestlambda = lambdas[int(optindex[bestfold])] #select best lambda from best fold\n",
    "lowestloss = lambdalossesvalidation[bestfold,int(optindex[bestfold])] #select lowest validation loss from best fold\n",
    "bestvalidationlosses = lambdalossesvalidation[bestfold,:] #best fold validation losses\n",
    "besttrainlosses = lambdalossestrain[bestfold,:] #best fold train\n",
    "\n",
    "#Allocate memory\n",
    "minvalidationlosses = np.zeros((len(lambdas)))\n",
    "maxvalidationlosses = np.zeros((len(lambdas)))\n",
    "avgvalidationlosses = np.zeros((len(lambdas)))\n",
    "\n",
    "#compute min, max and avg losses among folds, per lambda\n",
    "for i in range(len(lambdas)):\n",
    "\tminvalidationlosses[i] = np.amin(lambdalossesvalidation[:,i],axis=0)\n",
    "\tmaxvalidationlosses[i] = np.amax(lambdalossesvalidation[:,i],axis=0)\n",
    "\tavgvalidationlosses[i] = np.mean(lambdalossesvalidation[:,i],axis=0)\n",
    "avglowestlossind = np.argmin(avgvalidationlosses) #select lowest avg validation loss index\n",
    "avgbestlambda = lambdas[int(avglowestlossind)] #select best lambda from avg validation losses\n",
    "\n",
    "print(\"Best lambda value after cross validation:\", avgbestlambda)"
   ]
  },
  {
   "cell_type": "code",
   "execution_count": 47,
   "metadata": {},
   "outputs": [
    {
     "data": {
      "image/png": "[encoded data removed]",
      "text/plain": [
       "<matplotlib.figure.Figure at 0x21b425bf438>"
      ]
     },
     "metadata": {},
     "output_type": "display_data"
    }
   ],
   "source": [
    "#plot\n",
    "plt.plot(np.log10(avgbestlambda), avgvalidationlosses[int(avglowestlossind)], marker='o', markersize=6, color=\"green\")\n",
    "plt.plot(np.log10(lambdas), besttrainlosses , 'b')\n",
    "plt.plot(np.log10(lambdas), avgvalidationlosses , 'r')\n",
    "for ind in range(len(lambdas)):\n",
    "\tplt.plot([np.log10(lambdas[ind]), np.log10(lambdas[ind])], [minvalidationlosses[ind] , maxvalidationlosses[ind]] , 'black')\n",
    "blue_patch = mpatches.Patch(color='blue', label='Training set')\n",
    "red_patch = mpatches.Patch(color='red', label='Validation set')\n",
    "green_patch = mpatches.Patch(color='green', label='Optimal lambda')\n",
    "black_patch = mpatches.Patch(color='black', label='Standard Deviation')\n",
    "plt.legend(handles=[blue_patch, red_patch, green_patch, black_patch])\n",
    "plt.ylabel('Loss')\n",
    "plt.xlabel('ln$\\lambda$')\n",
    "plt.show()"
   ]
  },
  {
   "cell_type": "code",
   "execution_count": 48,
   "metadata": {},
   "outputs": [
    {
     "name": "stdout",
     "output_type": "stream",
     "text": [
      "final weights using entire training set: [[ 1.69688606]\n",
      " [ 2.53393251]\n",
      " [ 0.        ]\n",
      " ..., \n",
      " [-1.81126487]\n",
      " [-0.10200149]\n",
      " [ 0.        ]]\n"
     ]
    }
   ],
   "source": [
    "#Training\n",
    "\n",
    "xtrain = tfs_train\n",
    "ytrain = Ytrain\n",
    "bestlambda = avgbestlambda #Select best lambda\n",
    "\n",
    "cvweights = np.zeros((xtrain.shape[1],1)) #initialize to zero the weight vector that gets updated with iterations\n",
    "gradient = np.ones((1,xtrain.shape[1])) #precision and maximum iterations (to avoid infinite loop)\n",
    "iters, diff = 1, 1\n",
    "gradientprev = 1000000;\n",
    "while ((diff > 0.0025) and iters < 5000):#precision could be changed\n",
    "\tgradient = np.zeros((1,xtrain.shape[1]))\n",
    "\titers += 1\n",
    "\tgradient = np.transpose((sigmoid((xtrain*cvweights))-ytrain)) * xtrain #compute gradient\n",
    "\tdiff = (np.linalg.norm(gradient,ord = 1)-gradientprev)/(-gradientprev) #compute difference\n",
    "\tgradientprev = np.linalg.norm(gradient,ord = 1) #save gradient\n",
    "\tcvweights = cvweights - (2.25*(iters**(-0.9)))*(np.transpose(gradient) + bestlambda*cvweights) #update weights\n",
    "print(\"final weights using entire training set:\", cvweights)"
   ]
  },
  {
   "cell_type": "code",
   "execution_count": 50,
   "metadata": {},
   "outputs": [
    {
     "name": "stdout",
     "output_type": "stream",
     "text": [
      "results on test data:\n",
      "Success:  97.70517308440296 %\n",
      "Failure:  2.294826915597048 %\n"
     ]
    }
   ],
   "source": [
    "#testing\n",
    "weights = np.array(cvweights) #Select optimal weigths\n",
    "testx = tfs_test\n",
    "Ytest = Ytest\n",
    "yhat = sigmoid((testx*weights)) #Estimation\n",
    "success = 0\n",
    "yhatround, yhatspam, yhatham, yhatspamind, yhathamind = [], [], [], [], []\n",
    "\n",
    "for i in range(len(yhat)):\n",
    "\tif yhat[i] > 0.5: \n",
    "\t\tyhatround.append(1) #Round up to 1\n",
    "\t\tif Ytest[i] == 1:\n",
    "\t\t\tyhatspam.append(yhat[i])\n",
    "\t\t\tyhatspamind.append(i)\n",
    "\t\t\tsuccess = success + 1\n",
    "\t\telse:\n",
    "\t\t\tyhatham.append(yhat[i])\n",
    "\t\t\tyhathamind.append(i)\n",
    "\telse: \n",
    "\t\tyhatround.append(0) #Round down to 0\n",
    "\t\tif Ytest[i] == 0:\n",
    "\t\t\tyhatham.append(yhat[i])\n",
    "\t\t\tyhathamind.append(i)\n",
    "\t\t\tsuccess = success + 1\n",
    "\t\telse:\n",
    "\t\t\tyhatspam.append(yhat[i])\n",
    "\t\t\tyhatspamind.append(i)\n",
    "\n",
    "success = success/Ytest.shape[0]\n",
    "print(\"results on test data:\")\n",
    "print(\"Success: \", 100*success, \"%\")\n",
    "print(\"Failure: \", 100*(1-success), \"%\")\n",
    "lossvalidation = ((np.transpose(Ytest)*(-testx*weights))+np.sum((np.log(1+np.exp(testx*weights)))))/Ytest.shape[0] #Loss"
   ]
  },
  {
   "cell_type": "code",
   "execution_count": 27,
   "metadata": {},
   "outputs": [
    {
     "data": {
      "image/png": "[encoded data removed]",
      "text/plain": [
       "<matplotlib.figure.Figure at 0x21b415c56a0>"
      ]
     },
     "metadata": {},
     "output_type": "display_data"
    }
   ],
   "source": [
    "#Plot\n",
    "plt.plot(yhatspamind,yhatspam, 'ro')\n",
    "plt.plot(yhathamind,yhatham, 'bo')\n",
    "plt.plot([0, len(yhat)], [0.5 , 0.5] , 'black')\n",
    "red_patch = mpatches.Patch(color='red', label='Spam')\n",
    "blue_patch = mpatches.Patch(color='blue', label='Ham')\n",
    "plt.legend(handles=[red_patch, blue_patch])\n",
    "plt.ylabel('Estimation (Ham = 0, Spam = 1)')\n",
    "plt.xlabel('sms')\n",
    "plt.show()\t"
   ]
  }
 ],
 "metadata": {
  "kernelspec": {
   "display_name": "Python 3",
   "language": "python",
   "name": "python3"
  },
  "language_info": {
   "codemirror_mode": {
    "name": "ipython",
    "version": 3
   },
   "file_extension": ".py",
   "mimetype": "text/x-python",
   "name": "python",
   "nbconvert_exporter": "python",
   "pygments_lexer": "ipython3",
   "version": "3.6.1"
  }
 },
 "nbformat": 4,
 "nbformat_minor": 2
}
